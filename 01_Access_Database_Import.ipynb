{
 "cells": [
  {
   "cell_type": "markdown",
   "metadata": {},
   "source": [
    "Tasks for collecting the Microsoft Access tables\n",
    "+ Connect to the database\n",
    "+ Get list of tables\n",
    "+ Read each table and add to dictionary\n",
    "+ For each table collected, export to a python object"
   ]
  },
  {
   "cell_type": "code",
   "execution_count": 7,
   "metadata": {},
   "outputs": [],
   "source": [
    "import pandas as pd\n",
    "import pyodbc # for connecting to MS Access\n",
    "import pickle # for exporting\n",
    "from datetime import datetime"
   ]
  },
  {
   "cell_type": "code",
   "execution_count": 13,
   "metadata": {},
   "outputs": [
    {
     "ename": "Error",
     "evalue": "('01000', \"[01000] [unixODBC][Driver Manager]Can't open lib 'Microsoft Access Driver (*.mdb, *.accdb)' : file not found (0) (SQLDriverConnect)\")",
     "output_type": "error",
     "traceback": [
      "\u001b[0;31m---------------------------------------------------------------------------\u001b[0m",
      "\u001b[0;31mError\u001b[0m                                     Traceback (most recent call last)",
      "\u001b[0;32m<ipython-input-13-c0970cbeef05>\u001b[0m in \u001b[0;36m<module>\u001b[0;34m\u001b[0m\n\u001b[1;32m      4\u001b[0m \u001b[0;31m# Create connection\u001b[0m\u001b[0;34m\u001b[0m\u001b[0;34m\u001b[0m\u001b[0;34m\u001b[0m\u001b[0m\n\u001b[1;32m      5\u001b[0m conn = pyodbc.connect(\n\u001b[0;32m----> 6\u001b[0;31m     \u001b[0;34mr'DRIVER={Microsoft Access Driver (*.mdb, *.accdb)};'\u001b[0m\u001b[0;34m\u001b[0m\u001b[0;34m\u001b[0m\u001b[0m\n\u001b[0m\u001b[1;32m      7\u001b[0m     r'DBQ=/home/caw/g-drive/blah.accdb;')\n\u001b[1;32m      8\u001b[0m     \u001b[0;31m#r'DBQ=C:\\Users\\cawhi\\Google Drive\\Semester_3\\IFN704\\Project2\\Data\\HTS Datasets for Queensland\\2017-18_QTS_ERV12_Final (2).accdb;')\u001b[0m\u001b[0;34m\u001b[0m\u001b[0;34m\u001b[0m\u001b[0;34m\u001b[0m\u001b[0m\n",
      "\u001b[0;31mError\u001b[0m: ('01000', \"[01000] [unixODBC][Driver Manager]Can't open lib 'Microsoft Access Driver (*.mdb, *.accdb)' : file not found (0) (SQLDriverConnect)\")"
     ]
    }
   ],
   "source": [
    "# Check correct driver installed\n",
    "[x for x in pyodbc.drivers() if x.startswith('Microsoft Access Driver')]\n",
    "\n",
    "# Create connection\n",
    "conn = pyodbc.connect(\n",
    "    r'DRIVER={Microsoft Access Driver (*.mdb, *.accdb)};'\n",
    "    r'DBQ=/home/caw/g-drive/blah.accdb;')\n",
    "    #r'DBQ=C:\\Users\\cawhi\\Google Drive\\Semester_3\\IFN704\\Project2\\Data\\HTS Datasets for Queensland\\2017-18_QTS_ERV12_Final (2).accdb;')\n",
    "\n",
    "# Create cursor used to execute commands\n",
    "crsr = conn.cursor()"
   ]
  },
  {
   "cell_type": "code",
   "execution_count": null,
   "metadata": {},
   "outputs": [],
   "source": [
    "# Get a list of all the tables\n",
    "for table_info in crsr.tables(tableType='TABLE'):\n",
    "    print(table_info.table_name)"
   ]
  },
  {
   "cell_type": "markdown",
   "metadata": {},
   "source": [
    "Now we know the tables we'd like to import, let's import them, adding to a dictionary\n",
    "\n",
    "**Note: in previous attempts it was found that the table named 'R_TIME' returns a datetime object that pyodbc cannot handle. Consequently, that table required manual export to CSV to import a separate activity as coding the exception to handle it was technically challengings.**"
   ]
  },
  {
   "cell_type": "code",
   "execution_count": null,
   "metadata": {},
   "outputs": [],
   "source": [
    "# Initialise dictionary to store dataframes (MS Access tables)\n",
    "access_tables = {}\n",
    "\n",
    "# Loop through the list of tables\n",
    "for item in crsr.tables(tableType = 'TABLE'):\n",
    "    # Remember to catch the offending table that didn't import\n",
    "    if item.table_name != 'R_TIME':\n",
    "        query_text = \"SELECT * FROM \" + item.table_name\n",
    "        SQL_Query = pd.read_sql_query(query_text, conn)\n",
    "        df = pd.DataFrame(SQL_Query)\n",
    "        access_tables[item.table_name] = df\n",
    "        \n",
    "        # Just a visual to make sure we're getting the tables\n",
    "        print(item.table_name)    "
   ]
  },
  {
   "cell_type": "markdown",
   "metadata": {},
   "source": [
    "Next, export dataframes to local drive for importing later. Use pickel for this and the dictionary key, which we made the table name, for the filename."
   ]
  },
  {
   "cell_type": "code",
   "execution_count": null,
   "metadata": {},
   "outputs": [],
   "source": [
    "# This is where to store them\n",
    "filepath = './Access_Tables/'\n",
    "for k, v in access_tables.items():\n",
    "    df = pd.DataFrame(v)\n",
    "    df.to_pickle(filepath + k + \".pyobj\")\n",
    "    df.to_csv(filepath + k + \".csv\"))"
   ]
  },
  {
   "cell_type": "markdown",
   "metadata": {},
   "source": [
    "The final task is to manually import the R_TIME table that caused errors. The offending columns was 'TIME2'."
   ]
  },
  {
   "cell_type": "code",
   "execution_count": null,
   "metadata": {},
   "outputs": [],
   "source": [
    "column_names = ['TIME', 'STRTHR', 'STRT15', 'Peak', 'TIME2'] # Taken from MS Access\n",
    "\n",
    "df = pd.read_csv(r\"C:\\Users\\cawhi\\Google Drive\\Semester_3\\IFN704\\Project2\\Data\\HTS Datasets for Queensland\\R_TIME.txt\", names=column_names)\n",
    "df.head()"
   ]
  },
  {
   "cell_type": "markdown",
   "metadata": {},
   "source": [
    "Below are the data types. Looks like TIME2 is a string but should be a datetime. This should be converted."
   ]
  },
  {
   "cell_type": "code",
   "execution_count": null,
   "metadata": {},
   "outputs": [],
   "source": [
    "df.dtypes"
   ]
  },
  {
   "cell_type": "code",
   "execution_count": null,
   "metadata": {},
   "outputs": [],
   "source": [
    "# Function that will split the string by space and convert to datetime\n",
    "def correct_to_datetime(date_time):\n",
    "    split_date_time = date_time.split(\" \")\n",
    "    tail = split_date_time[1]\n",
    "    new_time = datetime.strptime(tail, '%H:%M:%S')\n",
    "    return new_time"
   ]
  },
  {
   "cell_type": "code",
   "execution_count": null,
   "metadata": {},
   "outputs": [],
   "source": [
    "# Apply to the column and take a look\n",
    "df['TIME2'] = df['TIME2'].apply(correct_to_datetime)\n",
    "df.head()"
   ]
  },
  {
   "cell_type": "markdown",
   "metadata": {},
   "source": [
    "Everything looks good. Now to export this last table. "
   ]
  },
  {
   "cell_type": "code",
   "execution_count": null,
   "metadata": {},
   "outputs": [],
   "source": [
    "filename = 'R_TIME'\n",
    "df.to_pickle(filepath + filename + \".pyobj\")\n",
    "df.to_csv(filepath + k + \".pyobj\")\n",
    "conn.close"
   ]
  },
  {
   "cell_type": "code",
   "execution_count": null,
   "metadata": {},
   "outputs": [],
   "source": []
  }
 ],
 "metadata": {
  "kernelspec": {
   "display_name": "Python 3",
   "language": "python",
   "name": "python3"
  },
  "language_info": {
   "codemirror_mode": {
    "name": "ipython",
    "version": 3
   },
   "file_extension": ".py",
   "mimetype": "text/x-python",
   "name": "python",
   "nbconvert_exporter": "python",
   "pygments_lexer": "ipython3",
   "version": "3.7.7"
  }
 },
 "nbformat": 4,
 "nbformat_minor": 4
}
