{
 "cells": [
  {
   "cell_type": "code",
   "execution_count": 4,
   "metadata": {},
   "outputs": [],
   "source": [
    "import pandas as pd\n",
    "import os\n",
    "import glob"
   ]
  },
  {
   "cell_type": "code",
   "execution_count": 33,
   "metadata": {},
   "outputs": [
    {
     "name": "stdout",
     "output_type": "stream",
     "text": [
      "./Access_Tables/R_ASGS_2016.csv\n",
      "./Access_Tables/WGT_DEMOG.csv\n",
      "./Access_Tables/R_MAINMODE.csv\n",
      "./Access_Tables/4_QTS_STOPS.csv\n",
      "./Access_Tables/R_GROUP_MODE.csv\n",
      "./Access_Tables/_Readme.csv\n",
      "./Access_Tables/5_QTS_TRIPS.csv\n",
      "./Access_Tables/RP_AGE_GROUP.csv\n",
      "./Access_Tables/R_MAINACT.csv\n",
      "./Access_Tables/R_LGA.csv\n",
      "./Access_Tables/1_QTS_HOUSEHOLDS.csv\n",
      "./Access_Tables/R_GROUP_MAINACT.csv\n",
      "./Access_Tables/R_TRAVELWHYNOT.csv\n",
      "./Access_Tables/3_QTS_VEHICLES.csv\n",
      "./Access_Tables/R_ANZSCO.csv\n",
      "./Access_Tables/R_OVERALL_PURPOSE.csv\n",
      "./Access_Tables/R_REGION.csv\n",
      "./Access_Tables/WGT_HH.csv\n",
      "./Access_Tables/2_QTS_PERSONS.csv\n",
      "./Access_Tables/R_TIME.csv\n",
      "./Access_Tables/R_Distance_bins.csv\n"
     ]
    }
   ],
   "source": [
    "# Create CSV files of the tables collected from Access\n",
    "# This is where to store them\n",
    "\n",
    "path = './Access_Tables/*.pyobj'\n",
    "files = glob.glob(path)\n",
    "\n",
    "for f in files:\n",
    "    df = pd.read_pickle(f)\n",
    "    df.to_csv(f[:-6] + \".csv\")\n",
    "    print(f[:-6] + \".csv\")"
   ]
  },
  {
   "cell_type": "markdown",
   "metadata": {},
   "source": [
    "##### Modelling Notes:\n",
    "\n",
    "Approaches\n",
    "* Aggregate approach - \"...model aggregate share of all or a segment of decision makers choosing each alternative as a function of the characteristics of the alternatives and socio-demographic attributes of the group.\" (Koppelman & Bhat, 2006. p. 9)\n",
    "\n",
    "\n",
    "* Disaggregate approach - \"... model individual choice resonses as a function of the characteristics of the alternagives available to and socio-demographic attributes of each individual.\" (Koppelman & Bhat, 2006. p9)\n",
    "\n",
    "\n",
    "* Number of alternatives should be around 3 - 7 to reduce complexity\n",
    "\n",
    "Contexts\n",
    "\n",
    "* Urban Travel Model Choice Modelling vs Intercity Mode Choice Models\n",
    "    * Purpose can differ\n",
    "    * Modes can differ\n",
    "\n",
    "* Trip Purposes (contexts)\n",
    "    * home-based work (from home to work)\n",
    "    * home-based shop/other (from home to shop/other)\n",
    "\n",
    "    alternatives:\n",
    "    * non-home-based trips\n",
    "    \n",
    "    \n",
    "Choice sets\n",
    "\n",
    "* Universal (all choices) ->\n",
    "* Feasible (subset of universal that are feasible) ->\n",
    "* Consideration (subset of feasible that are considered) <- **used in choice modelling**\n",
    "\n",
    "Decision Rule\n",
    "\n",
    "* Utility maximization rule:\n",
    "    * Attribute vector of each alternative can be reduced to scalar utility value for that alternative (Koppelman & Bhat, 2006, p. 20)\n",
    "    * An individual selects the alternative with the highest utility rate\n",
    "    \n",
    "Utility rule: _alternative, ‘i’, is chosen among a set of alternatives, if and only if the utility of alternative, ‘i’, is greater than or equal to the utility of all alternatives 2 , ‘j’, in the choice set, C._\n",
    "\n",
    "Utility values\n",
    "* Portion of the utility observed by the analyst\n",
    "* Difference between the unknown utility used by the individual and the utility estimated by the analyst\n",
    "\n",
    "U_it = V_it + E_it (epsilon)\n",
    "where U_it = true utility of alternative 'i' to decision maker 't'\n",
    "V_it = observable portion\n",
    "E = the difference\n",
    "\n",
    "\n",
    "Variables to consider\n",
    "* Traveller related variables\n",
    "    * Income\n",
    "    * Automobile ownership\n",
    "    * Number of workers\n",
    "    * Sex\n",
    "    * Age\n",
    "    * Derived variables e.g. num autos / num workers\n",
    "* Trip related variables\n",
    "    * Trip purpose\n",
    "    * Employment density at workplace\n",
    "    * Population density at home location\n",
    "    * Dummy variable indicating if workplace is in CBD\n",
    "    * Time of day of travel\n",
    "    * Origin\n",
    "    * Destination\n",
    "    * Travel party size\n",
    "* Mode related variables\n",
    "    * Travel time\n",
    "    * In-vehicle travel time\n",
    "    * Out of vehicle travel time\n",
    "    * Walk time\n",
    "    * Wait time\n",
    "    * Number of transfers\n",
    "    * Transit headway\n",
    "    * Travel cost\n",
    "    * Service frequency for carrier modes\n",
    "* Interaction variables\n",
    "    * Travel cost divided by household income\n",
    "    * Travel time or cost interacted with sex / age\n",
    "    * Out of vehicle time divided by total trip distance\n"
   ]
  },
  {
   "cell_type": "code",
   "execution_count": 61,
   "metadata": {},
   "outputs": [],
   "source": [
    "# Import libraries\n",
    "import pandas as pd\n",
    "import numpy as np\n",
    "import pickle"
   ]
  },
  {
   "cell_type": "markdown",
   "metadata": {},
   "source": [
    "### Basic model with few variables\n",
    "\n",
    "Variables chosen based on Koppelman and Bhat (2006)\n",
    "* Income\n",
    "* Automobile ownership\n",
    "* Sex\n",
    "* Age group\n",
    "* Travel time\n",
    "* Travel cost"
   ]
  },
  {
   "cell_type": "code",
   "execution_count": 95,
   "metadata": {},
   "outputs": [
    {
     "name": "stdout",
     "output_type": "stream",
     "text": [
      "<class 'pandas.core.frame.DataFrame'>\n",
      "RangeIndex: 20202 entries, 0 to 20201\n",
      "Data columns (total 43 columns):\n",
      " #   Column            Non-Null Count  Dtype         \n",
      "---  ------            --------------  -----         \n",
      " 0   HHID              20202 non-null  int16         \n",
      " 1   PERSID            20202 non-null  object        \n",
      " 2   AGEGROUP          17724 non-null  float64       \n",
      " 3   SEX               17762 non-null  object        \n",
      " 4   RELATIONSHIP      10917 non-null  object        \n",
      " 5   CARLICENCE        20202 non-null  bool          \n",
      " 6   CARLICTYPE        11830 non-null  object        \n",
      " 7   MBLICENCE         20202 non-null  bool          \n",
      " 8   MBLICTYPE         984 non-null    object        \n",
      " 9   OTHERLICENCE      20202 non-null  bool          \n",
      " 10  WORKSTATUS        14008 non-null  object        \n",
      " 11  ANZSCO_1-digit    8094 non-null   Int64         \n",
      " 12  ANZSCO_3-digit    8094 non-null   Int64         \n",
      " 13  INDUSTRY          8854 non-null   object        \n",
      " 14  STUDYING          4359 non-null   object        \n",
      " 15  MAINACT           16557 non-null  object        \n",
      " 16  STARTPLACE        13476 non-null  object        \n",
      " 17  ANYSTOPS          20202 non-null  bool          \n",
      " 18  REASON            1528 non-null   object        \n",
      " 19  LASTLEFT          1443 non-null   datetime64[ns]\n",
      " 20  ASSISTAGE         2299 non-null   float64       \n",
      " 21  ASSISTLTHC        160 non-null    float64       \n",
      " 22  ASSISTSTHC        51 non-null     float64       \n",
      " 23  ASSISTDISABILITY  146 non-null    float64       \n",
      " 24  ASSISTENGLISH     6 non-null      float64       \n",
      " 25  ASSISTOTHER       13 non-null     float64       \n",
      " 26  ASSISTANY         2635 non-null   float64       \n",
      " 27  rideShareTrips    6929 non-null   object        \n",
      " 28  RIDESHAREENT      562 non-null    object        \n",
      " 29  RIDESHAREHC       48 non-null     object        \n",
      " 30  RIDESHAREED       32 non-null     object        \n",
      " 31  RIDESHARESHOP     46 non-null     object        \n",
      " 32  RIDESHAREWORK     177 non-null    object        \n",
      " 33  RIDESHAREOTHER    106 non-null    object        \n",
      " 34  TAXITRIPS         6917 non-null   object        \n",
      " 35  TAXIENT           208 non-null    object        \n",
      " 36  TAXIHC            76 non-null     object        \n",
      " 37  TAXIED            8 non-null      object        \n",
      " 38  TAXISHOP          58 non-null     object        \n",
      " 39  TAXIWORK          140 non-null    object        \n",
      " 40  TAXIOTHER         108 non-null    object        \n",
      " 41  DEMOGWGT17        13695 non-null  float64       \n",
      " 42  PERSWGT17         13695 non-null  float64       \n",
      "dtypes: Int64(2), bool(4), datetime64[ns](1), float64(10), int16(1), object(25)\n",
      "memory usage: 6.0+ MB\n",
      "None\n",
      "<class 'pandas.core.frame.DataFrame'>\n",
      "RangeIndex: 10094 entries, 0 to 10093\n",
      "Data columns (total 18 columns):\n",
      " #   Column         Non-Null Count  Dtype  \n",
      "---  ------         --------------  -----  \n",
      " 0   HHID           10094 non-null  float64\n",
      " 1   STATUS         10094 non-null  object \n",
      " 2   HHSIZE         7724 non-null   float64\n",
      " 3   BIKES          7573 non-null   float64\n",
      " 4   HHVEH          6740 non-null   float64\n",
      " 5   DWELLTYPE      10094 non-null  object \n",
      " 6   REFUSEAGE      2354 non-null   object \n",
      " 7   REFUSESEX      2357 non-null   object \n",
      " 8   REFUSESIZE     2354 non-null   object \n",
      " 9   REFUSEVEH      2354 non-null   object \n",
      " 10  SURVEYWEEK     10094 non-null  int64  \n",
      " 11  STRATA_LGA     10094 non-null  int64  \n",
      " 12  TRAVDATE       10094 non-null  int64  \n",
      " 13  TRAVMONTH      10094 non-null  int64  \n",
      " 14  TRAVYEAR       10094 non-null  int64  \n",
      " 15  TRAVDOW        10094 non-null  int64  \n",
      " 16  HOME_SA1_2016  10094 non-null  int64  \n",
      " 17  HHWGT_17       5448 non-null   float64\n",
      "dtypes: float64(5), int64(7), object(6)\n",
      "memory usage: 1.4+ MB\n",
      "None\n",
      "<class 'pandas.core.frame.DataFrame'>\n",
      "RangeIndex: 40470 entries, 0 to 40469\n",
      "Data columns (total 25 columns):\n",
      " #   Column           Non-Null Count  Dtype  \n",
      "---  ------           --------------  -----  \n",
      " 0   TRIPID           40470 non-null  float64\n",
      " 1   HHID             40470 non-null  float64\n",
      " 2   PERSID           40470 non-null  object \n",
      " 3   STARTSTOP        40470 non-null  int64  \n",
      " 4   ENDSTOP          40470 non-null  int64  \n",
      " 5   STARTIME         40470 non-null  int64  \n",
      " 6   ORIGPLACE        40470 non-null  object \n",
      " 7   ORIGPURP         40470 non-null  object \n",
      " 8   ORIGSA1_2016     40470 non-null  int64  \n",
      " 9   DESTPLACE        40470 non-null  object \n",
      " 10  DESTPURP         40470 non-null  object \n",
      " 11  DESTSA1_2016     40470 non-null  int64  \n",
      " 12  MAINMODE         40470 non-null  object \n",
      " 13  MODE1            40470 non-null  object \n",
      " 14  MODE2            2087 non-null   object \n",
      " 15  MODE3            1804 non-null   object \n",
      " 16  MODE4            310 non-null    object \n",
      " 17  MODE5            180 non-null    object \n",
      " 18  MODE6            21 non-null     object \n",
      " 19  MODE7            7 non-null      object \n",
      " 20  ARRTIME          40470 non-null  int64  \n",
      " 21  DURATION         28515 non-null  float64\n",
      " 22  TRAVTIME         40470 non-null  int64  \n",
      " 23  CUMDIST          40470 non-null  float64\n",
      " 24  OVERALL_PURPOSE  40470 non-null  object \n",
      "dtypes: float64(4), int64(7), object(14)\n",
      "memory usage: 7.7+ MB\n",
      "None\n"
     ]
    }
   ],
   "source": [
    "# Import files\n",
    "filepath = './Access_Tables/'\n",
    "# Persons file\n",
    "filename = '2_QTS_PERSONS.pyobj'\n",
    "df_persons = pd.read_pickle(filepath + filename)\n",
    "# Households file\n",
    "filename = '1_QTS_HOUSEHOLDS.pyobj'\n",
    "df_households = pd.read_pickle(filepath + filename)\n",
    "# Trips file\n",
    "filename = '5_QTS_TRIPS.pyobj'\n",
    "df_trips = pd.read_pickle(filepath + filename)\n",
    "\n",
    "\n",
    "\n",
    "print(df_persons.info())\n",
    "print(df_households.info())\n",
    "print(df_trips.info())"
   ]
  },
  {
   "cell_type": "code",
   "execution_count": 63,
   "metadata": {},
   "outputs": [],
   "source": [
    "df_personhhs = df_persons.merge(right = df_households, how = 'left', on = 'HHID')"
   ]
  },
  {
   "cell_type": "code",
   "execution_count": 97,
   "metadata": {},
   "outputs": [],
   "source": [
    "df_personhhstrips = df_personhhs.merge(right = df_trips, how = 'left', on = 'PERSID')"
   ]
  },
  {
   "cell_type": "code",
   "execution_count": 98,
   "metadata": {},
   "outputs": [
    {
     "name": "stdout",
     "output_type": "stream",
     "text": [
      "<class 'pandas.core.frame.DataFrame'>\n",
      "Int64Index: 48717 entries, 0 to 48716\n",
      "Data columns (total 84 columns):\n",
      " #   Column            Non-Null Count  Dtype         \n",
      "---  ------            --------------  -----         \n",
      " 0   HHID_x            48717 non-null  int16         \n",
      " 1   PERSID            48717 non-null  object        \n",
      " 2   AGEGROUP          46236 non-null  float64       \n",
      " 3   SEX               46277 non-null  object        \n",
      " 4   RELATIONSHIP      26142 non-null  object        \n",
      " 5   CARLICENCE        48717 non-null  bool          \n",
      " 6   CARLICTYPE        32895 non-null  object        \n",
      " 7   MBLICENCE         48717 non-null  bool          \n",
      " 8   MBLICTYPE         2826 non-null   object        \n",
      " 9   OTHERLICENCE      48717 non-null  bool          \n",
      " 10  WORKSTATUS        37414 non-null  object        \n",
      " 11  ANZSCO_1-digit    21809 non-null  Int64         \n",
      " 12  ANZSCO_3-digit    21809 non-null  Int64         \n",
      " 13  INDUSTRY          23837 non-null  object        \n",
      " 14  STUDYING          10409 non-null  object        \n",
      " 15  MAINACT           43348 non-null  object        \n",
      " 16  STARTPLACE        40346 non-null  object        \n",
      " 17  ANYSTOPS          48717 non-null  bool          \n",
      " 18  REASON            1528 non-null   object        \n",
      " 19  LASTLEFT          1455 non-null   datetime64[ns]\n",
      " 20  ASSISTAGE         5472 non-null   float64       \n",
      " 21  ASSISTLTHC        284 non-null    float64       \n",
      " 22  ASSISTSTHC        89 non-null     float64       \n",
      " 23  ASSISTDISABILITY  321 non-null    float64       \n",
      " 24  ASSISTENGLISH     17 non-null     float64       \n",
      " 25  ASSISTOTHER       23 non-null     float64       \n",
      " 26  ASSISTANY         6119 non-null   float64       \n",
      " 27  rideShareTrips    20327 non-null  object        \n",
      " 28  RIDESHAREENT      1843 non-null   object        \n",
      " 29  RIDESHAREHC       110 non-null    object        \n",
      " 30  RIDESHAREED       81 non-null     object        \n",
      " 31  RIDESHARESHOP     122 non-null    object        \n",
      " 32  RIDESHAREWORK     527 non-null    object        \n",
      " 33  RIDESHAREOTHER    326 non-null    object        \n",
      " 34  TAXITRIPS         20289 non-null  object        \n",
      " 35  TAXIENT           633 non-null    object        \n",
      " 36  TAXIHC            153 non-null    object        \n",
      " 37  TAXIED            18 non-null     object        \n",
      " 38  TAXISHOP          113 non-null    object        \n",
      " 39  TAXIWORK          444 non-null    object        \n",
      " 40  TAXIOTHER         321 non-null    object        \n",
      " 41  DEMOGWGT17        41696 non-null  float64       \n",
      " 42  PERSWGT17         41696 non-null  float64       \n",
      " 43  STATUS            48717 non-null  object        \n",
      " 44  HHSIZE            48717 non-null  float64       \n",
      " 45  BIKES             48521 non-null  float64       \n",
      " 46  HHVEH             46079 non-null  float64       \n",
      " 47  DWELLTYPE         48717 non-null  object        \n",
      " 48  REFUSEAGE         125 non-null    object        \n",
      " 49  REFUSESEX         146 non-null    object        \n",
      " 50  REFUSESIZE        125 non-null    object        \n",
      " 51  REFUSEVEH         125 non-null    object        \n",
      " 52  SURVEYWEEK        48717 non-null  int64         \n",
      " 53  STRATA_LGA        48717 non-null  int64         \n",
      " 54  TRAVDATE          48717 non-null  int64         \n",
      " 55  TRAVMONTH         48717 non-null  int64         \n",
      " 56  TRAVYEAR          48717 non-null  int64         \n",
      " 57  TRAVDOW           48717 non-null  int64         \n",
      " 58  HOME_SA1_2016     48717 non-null  int64         \n",
      " 59  HHWGT_17          41696 non-null  float64       \n",
      " 60  TRIPID            40470 non-null  float64       \n",
      " 61  HHID_y            40470 non-null  float64       \n",
      " 62  STARTSTOP         40470 non-null  float64       \n",
      " 63  ENDSTOP           40470 non-null  float64       \n",
      " 64  STARTIME          40470 non-null  float64       \n",
      " 65  ORIGPLACE         40470 non-null  object        \n",
      " 66  ORIGPURP          40470 non-null  object        \n",
      " 67  ORIGSA1_2016      40470 non-null  float64       \n",
      " 68  DESTPLACE         40470 non-null  object        \n",
      " 69  DESTPURP          40470 non-null  object        \n",
      " 70  DESTSA1_2016      40470 non-null  float64       \n",
      " 71  MAINMODE          40470 non-null  object        \n",
      " 72  MODE1             40470 non-null  object        \n",
      " 73  MODE2             2087 non-null   object        \n",
      " 74  MODE3             1804 non-null   object        \n",
      " 75  MODE4             310 non-null    object        \n",
      " 76  MODE5             180 non-null    object        \n",
      " 77  MODE6             21 non-null     object        \n",
      " 78  MODE7             7 non-null      object        \n",
      " 79  ARRTIME           40470 non-null  float64       \n",
      " 80  DURATION          28515 non-null  float64       \n",
      " 81  TRAVTIME          40470 non-null  float64       \n",
      " 82  CUMDIST           40470 non-null  float64       \n",
      " 83  OVERALL_PURPOSE   40470 non-null  object        \n",
      "dtypes: Int64(2), bool(4), datetime64[ns](1), float64(25), int16(1), int64(7), object(44)\n",
      "memory usage: 30.1+ MB\n"
     ]
    }
   ],
   "source": [
    "df_personhhstrips.info()"
   ]
  },
  {
   "cell_type": "code",
   "execution_count": 99,
   "metadata": {},
   "outputs": [],
   "source": [
    "cols_to_include=['AGEGROUP',\n",
    "                 'SEX',\n",
    "                 'CARLICENCE', 'MBLICENCE', 'OTHERLICENCE', 'ANYSTOPS', 'ASSISTAGE', 'ASSISTLTHC',\n",
    "                 'ASSISTSTHC', 'ASSISTDISABILITY', 'ASSISTENGLISH', 'ASSISTOTHER', 'ASSISTANY','RIDESHAREENT',\n",
    "                 'RIDESHAREHC','RIDESHAREED', 'RIDESHARESHOP', 'RIDESHAREWORK', 'RIDESHAREOTHER', 'TAXIENT',  'TAXIHC',\n",
    "                 'TAXIED', 'TAXISHOP', 'TAXIWORK', 'TAXIOTHER',\n",
    "                 'HHSIZE','BIKES',\n",
    "                 'DWELLTYPE',\n",
    "                 'SURVEYWEEK', 'STRATA_LGA',\n",
    "                 'TRAVDATE', 'TRAVMONTH', 'TRAVYEAR', 'TRAVDOW', 'HOME_SA1_2016', 'MAINMODE']    "
   ]
  },
  {
   "cell_type": "code",
   "execution_count": 106,
   "metadata": {},
   "outputs": [],
   "source": [
    "cols_to_include=['AGEGROUP',\n",
    "                 #'SEX',\n",
    "                 #'CARLICENCE', 'MBLICENCE', 'OTHERLICENCE', 'ANYSTOPS',\n",
    "                 'HHSIZE','BIKES',\n",
    "                 #'DWELLTYPE',\n",
    "                 'SURVEYWEEK', 'STRATA_LGA',\n",
    "                 'TRAVDATE', 'TRAVMONTH', 'TRAVYEAR', 'TRAVDOW', 'HOME_SA1_2016', 'MAINMODE', 'OVERALL_PURPOSE'] "
   ]
  },
  {
   "cell_type": "code",
   "execution_count": 107,
   "metadata": {},
   "outputs": [],
   "source": [
    "df_merged = df_personhhstrips[cols_to_include]"
   ]
  },
  {
   "cell_type": "code",
   "execution_count": 108,
   "metadata": {},
   "outputs": [
    {
     "name": "stdout",
     "output_type": "stream",
     "text": [
      "<class 'pandas.core.frame.DataFrame'>\n",
      "Int64Index: 48717 entries, 0 to 48716\n",
      "Data columns (total 12 columns):\n",
      " #   Column           Non-Null Count  Dtype  \n",
      "---  ------           --------------  -----  \n",
      " 0   AGEGROUP         46236 non-null  float64\n",
      " 1   HHSIZE           48717 non-null  float64\n",
      " 2   BIKES            48521 non-null  float64\n",
      " 3   SURVEYWEEK       48717 non-null  int64  \n",
      " 4   STRATA_LGA       48717 non-null  int64  \n",
      " 5   TRAVDATE         48717 non-null  int64  \n",
      " 6   TRAVMONTH        48717 non-null  int64  \n",
      " 7   TRAVYEAR         48717 non-null  int64  \n",
      " 8   TRAVDOW          48717 non-null  int64  \n",
      " 9   HOME_SA1_2016    48717 non-null  int64  \n",
      " 10  MAINMODE         40470 non-null  object \n",
      " 11  OVERALL_PURPOSE  40470 non-null  object \n",
      "dtypes: float64(3), int64(7), object(2)\n",
      "memory usage: 4.8+ MB\n"
     ]
    }
   ],
   "source": [
    "df_merged.info()"
   ]
  },
  {
   "cell_type": "code",
   "execution_count": 109,
   "metadata": {},
   "outputs": [],
   "source": [
    "df_merged = df_merged.dropna()"
   ]
  },
  {
   "cell_type": "code",
   "execution_count": 110,
   "metadata": {},
   "outputs": [
    {
     "name": "stdout",
     "output_type": "stream",
     "text": [
      "<class 'pandas.core.frame.DataFrame'>\n",
      "Int64Index: 40465 entries, 0 to 48716\n",
      "Data columns (total 12 columns):\n",
      " #   Column           Non-Null Count  Dtype  \n",
      "---  ------           --------------  -----  \n",
      " 0   AGEGROUP         40465 non-null  float64\n",
      " 1   HHSIZE           40465 non-null  float64\n",
      " 2   BIKES            40465 non-null  float64\n",
      " 3   SURVEYWEEK       40465 non-null  int64  \n",
      " 4   STRATA_LGA       40465 non-null  int64  \n",
      " 5   TRAVDATE         40465 non-null  int64  \n",
      " 6   TRAVMONTH        40465 non-null  int64  \n",
      " 7   TRAVYEAR         40465 non-null  int64  \n",
      " 8   TRAVDOW          40465 non-null  int64  \n",
      " 9   HOME_SA1_2016    40465 non-null  int64  \n",
      " 10  MAINMODE         40465 non-null  object \n",
      " 11  OVERALL_PURPOSE  40465 non-null  object \n",
      "dtypes: float64(3), int64(7), object(2)\n",
      "memory usage: 4.0+ MB\n"
     ]
    }
   ],
   "source": [
    "df_merged.info()"
   ]
  },
  {
   "cell_type": "code",
   "execution_count": null,
   "metadata": {},
   "outputs": [],
   "source": []
  },
  {
   "cell_type": "code",
   "execution_count": null,
   "metadata": {},
   "outputs": [],
   "source": []
  },
  {
   "cell_type": "code",
   "execution_count": null,
   "metadata": {},
   "outputs": [],
   "source": []
  },
  {
   "cell_type": "code",
   "execution_count": 111,
   "metadata": {},
   "outputs": [],
   "source": [
    "import pandas as pd\n",
    "import biogeme . database as db\n",
    "import biogeme . biogeme as bio"
   ]
  },
  {
   "cell_type": "code",
   "execution_count": 112,
   "metadata": {},
   "outputs": [
    {
     "ename": "biogemeError",
     "evalue": "Column MAINMODE in the database does contain object\nColumn OVERALL_PURPOSE in the database does contain object",
     "output_type": "error",
     "traceback": [
      "\u001b[1;31m---------------------------------------------------------------------------\u001b[0m",
      "\u001b[1;31mbiogemeError\u001b[0m                              Traceback (most recent call last)",
      "\u001b[1;32m<ipython-input-112-96a644fb8c68>\u001b[0m in \u001b[0;36m<module>\u001b[1;34m\u001b[0m\n\u001b[1;32m----> 1\u001b[1;33m \u001b[0mdatabase\u001b[0m \u001b[1;33m=\u001b[0m \u001b[0mdb\u001b[0m\u001b[1;33m.\u001b[0m\u001b[0mDatabase\u001b[0m\u001b[1;33m(\u001b[0m\u001b[1;34m\"BrisbanePT\"\u001b[0m\u001b[1;33m,\u001b[0m \u001b[0mdf_merged\u001b[0m\u001b[1;33m)\u001b[0m\u001b[1;33m\u001b[0m\u001b[1;33m\u001b[0m\u001b[0m\n\u001b[0m",
      "\u001b[1;32m~\\Anaconda3\\lib\\site-packages\\biogeme\\database.py\u001b[0m in \u001b[0;36m__init__\u001b[1;34m(self, name, pandasDatabase)\u001b[0m\n\u001b[0;32m     63\u001b[0m         \u001b[1;32mif\u001b[0m \u001b[0mlistOfErrors\u001b[0m\u001b[1;33m:\u001b[0m\u001b[1;33m\u001b[0m\u001b[1;33m\u001b[0m\u001b[0m\n\u001b[0;32m     64\u001b[0m             \u001b[0mself\u001b[0m\u001b[1;33m.\u001b[0m\u001b[0mlogger\u001b[0m\u001b[1;33m.\u001b[0m\u001b[0mwarning\u001b[0m\u001b[1;33m(\u001b[0m\u001b[1;34m'\\n'\u001b[0m\u001b[1;33m.\u001b[0m\u001b[0mjoin\u001b[0m\u001b[1;33m(\u001b[0m\u001b[0mlistOfErrors\u001b[0m\u001b[1;33m)\u001b[0m\u001b[1;33m)\u001b[0m\u001b[1;33m\u001b[0m\u001b[1;33m\u001b[0m\u001b[0m\n\u001b[1;32m---> 65\u001b[1;33m             \u001b[1;32mraise\u001b[0m \u001b[0mexcep\u001b[0m\u001b[1;33m.\u001b[0m\u001b[0mbiogemeError\u001b[0m\u001b[1;33m(\u001b[0m\u001b[1;34m\"\\n\"\u001b[0m\u001b[1;33m.\u001b[0m\u001b[0mjoin\u001b[0m\u001b[1;33m(\u001b[0m\u001b[0mlistOfErrors\u001b[0m\u001b[1;33m)\u001b[0m\u001b[1;33m)\u001b[0m\u001b[1;33m\u001b[0m\u001b[1;33m\u001b[0m\u001b[0m\n\u001b[0m\u001b[0;32m     66\u001b[0m \u001b[1;33m\u001b[0m\u001b[0m\n\u001b[0;32m     67\u001b[0m     \u001b[1;32mdef\u001b[0m \u001b[0m_initNativeRandomNumberGenerators\u001b[0m\u001b[1;33m(\u001b[0m\u001b[0mself\u001b[0m\u001b[1;33m)\u001b[0m\u001b[1;33m:\u001b[0m\u001b[1;33m\u001b[0m\u001b[1;33m\u001b[0m\u001b[0m\n",
      "\u001b[1;31mbiogemeError\u001b[0m: Column MAINMODE in the database does contain object\nColumn OVERALL_PURPOSE in the database does contain object"
     ]
    }
   ],
   "source": [
    "database = db.Database(\"BrisbanePT\", df_merged)"
   ]
  },
  {
   "cell_type": "code",
   "execution_count": 92,
   "metadata": {},
   "outputs": [
    {
     "name": "stdout",
     "output_type": "stream",
     "text": [
      "<class 'pandas.core.frame.DataFrame'>\n",
      "Int64Index: 17724 entries, 0 to 20201\n",
      "Data columns (total 10 columns):\n",
      " #   Column         Non-Null Count  Dtype  \n",
      "---  ------         --------------  -----  \n",
      " 0   AGEGROUP       17724 non-null  float64\n",
      " 1   HHSIZE         17724 non-null  float64\n",
      " 2   BIKES          17724 non-null  float64\n",
      " 3   SURVEYWEEK     17724 non-null  int64  \n",
      " 4   STRATA_LGA     17724 non-null  int64  \n",
      " 5   TRAVDATE       17724 non-null  int64  \n",
      " 6   TRAVMONTH      17724 non-null  int64  \n",
      " 7   TRAVYEAR       17724 non-null  int64  \n",
      " 8   TRAVDOW        17724 non-null  int64  \n",
      " 9   HOME_SA1_2016  17724 non-null  int64  \n",
      "dtypes: float64(3), int64(7)\n",
      "memory usage: 1.5 MB\n"
     ]
    }
   ],
   "source": [
    "df_merged.info()"
   ]
  },
  {
   "cell_type": "code",
   "execution_count": 94,
   "metadata": {},
   "outputs": [],
   "source": [
    "from biogeme.expressions import Beta, DefineVariable\n",
    "globals().update(database.variables)"
   ]
  },
  {
   "cell_type": "code",
   "execution_count": null,
   "metadata": {},
   "outputs": [],
   "source": []
  }
 ],
 "metadata": {
  "kernelspec": {
   "display_name": "Python 3",
   "language": "python",
   "name": "python3"
  },
  "language_info": {
   "codemirror_mode": {
    "name": "ipython",
    "version": 3
   },
   "file_extension": ".py",
   "mimetype": "text/x-python",
   "name": "python",
   "nbconvert_exporter": "python",
   "pygments_lexer": "ipython3",
   "version": "3.7.7"
  }
 },
 "nbformat": 4,
 "nbformat_minor": 4
}
